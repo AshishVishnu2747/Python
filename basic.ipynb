{
 "cells": [
  {
   "cell_type": "markdown",
   "id": "0a6777fa",
   "metadata": {},
   "source": [
    "## Basics of Python"
   ]
  },
  {
   "cell_type": "markdown",
   "id": "582b609d",
   "metadata": {},
   "source": [
    "Boolean functions"
   ]
  },
  {
   "cell_type": "code",
   "execution_count": 1,
   "id": "578abac1",
   "metadata": {},
   "outputs": [],
   "source": [
    "str=\"Ashish Vishnu\""
   ]
  },
  {
   "cell_type": "code",
   "execution_count": 4,
   "id": "e1d3e6eb",
   "metadata": {},
   "outputs": [
    {
     "name": "stdout",
     "output_type": "stream",
     "text": [
      "False\n",
      "False\n",
      "False\n",
      "True\n",
      "False\n"
     ]
    }
   ],
   "source": [
    "print(str.isalnum())\n",
    "print(str.isalpha())\n",
    "print(str.isnumeric())\n",
    "print(str.endswith('u'))\n",
    "print(str.startswith('a'))"
   ]
  },
  {
   "cell_type": "markdown",
   "id": "82fe718f",
   "metadata": {},
   "source": [
    "LIST\n",
    "\n",
    "    - indexing\n",
    "    - appending\n",
    "    - extend\n",
    "    - other operations"
   ]
  },
  {
   "cell_type": "code",
   "execution_count": 6,
   "id": "9e7e9862",
   "metadata": {},
   "outputs": [],
   "source": [
    "lst=[1,2,3,4,5,6,7,8,9,10,11,12,13]"
   ]
  },
  {
   "cell_type": "code",
   "execution_count": 7,
   "id": "dd755764",
   "metadata": {},
   "outputs": [
    {
     "data": {
      "text/plain": [
       "[1, 2, 3, 4, 5, 6, 7, 8, 9, 10, 11, 12, 13]"
      ]
     },
     "execution_count": 7,
     "metadata": {},
     "output_type": "execute_result"
    }
   ],
   "source": [
    "lst"
   ]
  },
  {
   "cell_type": "code",
   "execution_count": 8,
   "id": "ce3645db",
   "metadata": {},
   "outputs": [
    {
     "data": {
      "text/plain": [
       "[1, 2, 3, 4, 5, 6, 7, 8, 9, 10, 11, 12, 13]"
      ]
     },
     "execution_count": 8,
     "metadata": {},
     "output_type": "execute_result"
    }
   ],
   "source": [
    "lst[:]"
   ]
  },
  {
   "cell_type": "code",
   "execution_count": 9,
   "id": "6170f1b1",
   "metadata": {},
   "outputs": [
    {
     "data": {
      "text/plain": [
       "[3, 4, 5, 6, 7, 8, 9]"
      ]
     },
     "execution_count": 9,
     "metadata": {},
     "output_type": "execute_result"
    }
   ],
   "source": [
    "lst[2:9]"
   ]
  },
  {
   "cell_type": "code",
   "execution_count": 10,
   "id": "ef76befe",
   "metadata": {},
   "outputs": [],
   "source": [
    "lst.append(200)"
   ]
  },
  {
   "cell_type": "code",
   "execution_count": 11,
   "id": "e0ba8205",
   "metadata": {},
   "outputs": [
    {
     "data": {
      "text/plain": [
       "[1, 2, 3, 4, 5, 6, 7, 8, 9, 10, 11, 12, 13, 200]"
      ]
     },
     "execution_count": 11,
     "metadata": {},
     "output_type": "execute_result"
    }
   ],
   "source": [
    "lst"
   ]
  },
  {
   "cell_type": "code",
   "execution_count": 12,
   "id": "21c7fe6e",
   "metadata": {},
   "outputs": [],
   "source": [
    "lst.append([300,400,600])"
   ]
  },
  {
   "cell_type": "code",
   "execution_count": 14,
   "id": "2da50f8e",
   "metadata": {},
   "outputs": [
    {
     "data": {
      "text/plain": [
       "[1, 2, 3, 4, 5, 6, 7, 8, 9, 10, 11, 12, 13, 200, [300, 400, 600]]"
      ]
     },
     "execution_count": 14,
     "metadata": {},
     "output_type": "execute_result"
    }
   ],
   "source": [
    "lst     #this will create a lis of list rather than adding into the list one by one"
   ]
  },
  {
   "cell_type": "code",
   "execution_count": 17,
   "id": "42bca76a",
   "metadata": {},
   "outputs": [],
   "source": [
    "lst.extend([100,101,102])"
   ]
  },
  {
   "cell_type": "code",
   "execution_count": 18,
   "id": "e7fea90d",
   "metadata": {},
   "outputs": [
    {
     "data": {
      "text/plain": [
       "[1,\n",
       " 2,\n",
       " 3,\n",
       " 4,\n",
       " 5,\n",
       " 6,\n",
       " 7,\n",
       " 8,\n",
       " 9,\n",
       " 10,\n",
       " 11,\n",
       " 12,\n",
       " 13,\n",
       " 200,\n",
       " [300, 400, 600],\n",
       " 100,\n",
       " 101,\n",
       " 102]"
      ]
     },
     "execution_count": 18,
     "metadata": {},
     "output_type": "execute_result"
    }
   ],
   "source": [
    "lst"
   ]
  },
  {
   "cell_type": "code",
   "execution_count": 19,
   "id": "e2adcc92",
   "metadata": {},
   "outputs": [
    {
     "data": {
      "text/plain": [
       "[300, 400, 600]"
      ]
     },
     "execution_count": 19,
     "metadata": {},
     "output_type": "execute_result"
    }
   ],
   "source": [
    "lst.pop(-4)"
   ]
  },
  {
   "cell_type": "code",
   "execution_count": 20,
   "id": "99107d94",
   "metadata": {},
   "outputs": [
    {
     "data": {
      "text/plain": [
       "[1, 2, 3, 4, 5, 6, 7, 8, 9, 10, 11, 12, 13, 200, 100, 101, 102]"
      ]
     },
     "execution_count": 20,
     "metadata": {},
     "output_type": "execute_result"
    }
   ],
   "source": [
    "lst"
   ]
  },
  {
   "cell_type": "code",
   "execution_count": 21,
   "id": "97606544",
   "metadata": {},
   "outputs": [
    {
     "data": {
      "text/plain": [
       "1"
      ]
     },
     "execution_count": 21,
     "metadata": {},
     "output_type": "execute_result"
    }
   ],
   "source": [
    "lst.count(4)  #to find the number of occurances of the element "
   ]
  },
  {
   "cell_type": "code",
   "execution_count": 23,
   "id": "29943642",
   "metadata": {},
   "outputs": [
    {
     "data": {
      "text/plain": [
       "14"
      ]
     },
     "execution_count": 23,
     "metadata": {},
     "output_type": "execute_result"
    }
   ],
   "source": [
    "lst.index(100,0)   #to find the index of the value 100 starting from 0th index"
   ]
  },
  {
   "cell_type": "markdown",
   "id": "3b7f64f0",
   "metadata": {},
   "source": [
    "SETS\n",
    "\n",
    "set is a collection of data type that are iterable.mutable and has no duplicate elements."
   ]
  },
  {
   "cell_type": "code",
   "execution_count": 1,
   "id": "60666e81",
   "metadata": {},
   "outputs": [
    {
     "name": "stdout",
     "output_type": "stream",
     "text": [
      "{'avengers', 'iron man', 'hitman'}\n"
     ]
    }
   ],
   "source": [
    "set1={\"iron man\",\"hitman\",\"avengers\"}\n",
    "print(set1)"
   ]
  },
  {
   "cell_type": "code",
   "execution_count": 2,
   "id": "64489c70",
   "metadata": {},
   "outputs": [],
   "source": [
    "set1.add(\"Vishnu\")"
   ]
  },
  {
   "cell_type": "code",
   "execution_count": 3,
   "id": "f1425b9a",
   "metadata": {},
   "outputs": [
    {
     "data": {
      "text/plain": [
       "{'Vishnu', 'avengers', 'hitman', 'iron man'}"
      ]
     },
     "execution_count": 3,
     "metadata": {},
     "output_type": "execute_result"
    }
   ],
   "source": [
    "set1"
   ]
  },
  {
   "cell_type": "code",
   "execution_count": 4,
   "id": "7c6bf223",
   "metadata": {},
   "outputs": [],
   "source": [
    "set1.add(\"Ashish\")"
   ]
  },
  {
   "cell_type": "code",
   "execution_count": 5,
   "id": "2fd10e4e",
   "metadata": {},
   "outputs": [
    {
     "data": {
      "text/plain": [
       "{'Ashish', 'Vishnu', 'avengers', 'hitman', 'iron man'}"
      ]
     },
     "execution_count": 5,
     "metadata": {},
     "output_type": "execute_result"
    }
   ],
   "source": [
    "set1"
   ]
  },
  {
   "cell_type": "code",
   "execution_count": 6,
   "id": "d5733030",
   "metadata": {},
   "outputs": [
    {
     "data": {
      "text/plain": [
       "{'DC', 'Marvel', 'avengers', 'hitman', 'ironman', 'spiderman'}"
      ]
     },
     "execution_count": 6,
     "metadata": {},
     "output_type": "execute_result"
    }
   ],
   "source": [
    "set2={\"Marvel\",\"DC\",\"avengers\",\"hitman\",\"spiderman\",\"ironman\"}\n",
    "set2"
   ]
  },
  {
   "cell_type": "code",
   "execution_count": 7,
   "id": "6f590a15",
   "metadata": {},
   "outputs": [],
   "source": [
    "set2.difference_update(set1)"
   ]
  },
  {
   "cell_type": "code",
   "execution_count": 8,
   "id": "9e9d61ee",
   "metadata": {},
   "outputs": [
    {
     "data": {
      "text/plain": [
       "{'DC', 'Marvel', 'ironman', 'spiderman'}"
      ]
     },
     "execution_count": 8,
     "metadata": {},
     "output_type": "execute_result"
    }
   ],
   "source": [
    "set2"
   ]
  },
  {
   "cell_type": "code",
   "execution_count": 10,
   "id": "491c279a",
   "metadata": {},
   "outputs": [
    {
     "data": {
      "text/plain": [
       "set()"
      ]
     },
     "execution_count": 10,
     "metadata": {},
     "output_type": "execute_result"
    }
   ],
   "source": [
    "set1.intersection(set2)"
   ]
  },
  {
   "cell_type": "code",
   "execution_count": 11,
   "id": "83272a87",
   "metadata": {},
   "outputs": [
    {
     "data": {
      "text/plain": [
       "{'Ashish', 'Vishnu', 'avengers', 'hitman', 'iron man'}"
      ]
     },
     "execution_count": 11,
     "metadata": {},
     "output_type": "execute_result"
    }
   ],
   "source": [
    "set1"
   ]
  },
  {
   "cell_type": "code",
   "execution_count": 12,
   "id": "1957688c",
   "metadata": {},
   "outputs": [],
   "source": [
    "set1.intersection_update(set2)"
   ]
  },
  {
   "cell_type": "code",
   "execution_count": 13,
   "id": "cc32f3e9",
   "metadata": {},
   "outputs": [
    {
     "data": {
      "text/plain": [
       "set()"
      ]
     },
     "execution_count": 13,
     "metadata": {},
     "output_type": "execute_result"
    }
   ],
   "source": [
    "set1"
   ]
  },
  {
   "cell_type": "code",
   "execution_count": 18,
   "id": "2dabba89",
   "metadata": {},
   "outputs": [],
   "source": [
    "set2.clear()"
   ]
  },
  {
   "cell_type": "code",
   "execution_count": 19,
   "id": "bcb4695f",
   "metadata": {},
   "outputs": [
    {
     "data": {
      "text/plain": [
       "set()"
      ]
     },
     "execution_count": 19,
     "metadata": {},
     "output_type": "execute_result"
    }
   ],
   "source": [
    "set2"
   ]
  },
  {
   "cell_type": "markdown",
   "id": "e92ca110",
   "metadata": {},
   "source": [
    "Dictionaries\n",
    "\n",
    "dictionary which is a unordered,changeable and indexed.Which has keys and values"
   ]
  },
  {
   "cell_type": "code",
   "execution_count": 1,
   "id": "f3573bef",
   "metadata": {},
   "outputs": [],
   "source": [
    "my_dict={\"car1\":\"audi\",\"car2\":\"bmw\"}"
   ]
  },
  {
   "cell_type": "code",
   "execution_count": 2,
   "id": "ee080458",
   "metadata": {},
   "outputs": [
    {
     "data": {
      "text/plain": [
       "dict_keys(['car1', 'car2'])"
      ]
     },
     "execution_count": 2,
     "metadata": {},
     "output_type": "execute_result"
    }
   ],
   "source": [
    "my_dict.keys()"
   ]
  },
  {
   "cell_type": "code",
   "execution_count": 3,
   "id": "c26447e2",
   "metadata": {},
   "outputs": [
    {
     "data": {
      "text/plain": [
       "'audi'"
      ]
     },
     "execution_count": 3,
     "metadata": {},
     "output_type": "execute_result"
    }
   ],
   "source": [
    "my_dict[\"car1\"]"
   ]
  },
  {
   "cell_type": "code",
   "execution_count": 5,
   "id": "ad344301",
   "metadata": {},
   "outputs": [
    {
     "data": {
      "text/plain": [
       "dict_values(['audi', 'bmw'])"
      ]
     },
     "execution_count": 5,
     "metadata": {},
     "output_type": "execute_result"
    }
   ],
   "source": [
    "my_dict.values()"
   ]
  },
  {
   "cell_type": "code",
   "execution_count": 6,
   "id": "3a8b5d9e",
   "metadata": {},
   "outputs": [
    {
     "data": {
      "text/plain": [
       "dict_items([('car1', 'audi'), ('car2', 'bmw')])"
      ]
     },
     "execution_count": 6,
     "metadata": {},
     "output_type": "execute_result"
    }
   ],
   "source": [
    "my_dict.items()"
   ]
  },
  {
   "cell_type": "code",
   "execution_count": 7,
   "id": "6d612b2c",
   "metadata": {},
   "outputs": [],
   "source": [
    "my_dict[\"car3\"]=\"audi\""
   ]
  },
  {
   "cell_type": "code",
   "execution_count": 8,
   "id": "7a0d16bf",
   "metadata": {},
   "outputs": [
    {
     "data": {
      "text/plain": [
       "{'car1': 'audi', 'car2': 'bmw', 'car3': 'audi'}"
      ]
     },
     "execution_count": 8,
     "metadata": {},
     "output_type": "execute_result"
    }
   ],
   "source": [
    "my_dict"
   ]
  },
  {
   "cell_type": "markdown",
   "id": "27380941",
   "metadata": {},
   "source": [
    "nested dictionaries"
   ]
  },
  {
   "cell_type": "code",
   "execution_count": 9,
   "id": "6c632e10",
   "metadata": {},
   "outputs": [],
   "source": [
    "car1={\"mercedes\":1999}\n",
    "car2={\"bmw\":2002}\n",
    "car3={\"audi\":1990}\n",
    "\n",
    "di={1:car1,2:car2,3:car3}"
   ]
  },
  {
   "cell_type": "code",
   "execution_count": 10,
   "id": "a4b73917",
   "metadata": {},
   "outputs": [
    {
     "data": {
      "text/plain": [
       "{1: {'mercedes': 1999}, 2: {'bmw': 2002}, 3: {'audi': 1990}}"
      ]
     },
     "execution_count": 10,
     "metadata": {},
     "output_type": "execute_result"
    }
   ],
   "source": [
    "di"
   ]
  },
  {
   "cell_type": "code",
   "execution_count": 13,
   "id": "6ece611f",
   "metadata": {},
   "outputs": [
    {
     "name": "stdout",
     "output_type": "stream",
     "text": [
      "1999\n"
     ]
    }
   ],
   "source": [
    "print(di[1][\"mercedes\"])"
   ]
  },
  {
   "cell_type": "markdown",
   "id": "7e1e679a",
   "metadata": {},
   "source": [
    "Tuple "
   ]
  },
  {
   "cell_type": "code",
   "execution_count": 14,
   "id": "8f1e877b",
   "metadata": {},
   "outputs": [],
   "source": [
    "my_tuple=(\"Ashish\",0,\"xgf\")"
   ]
  },
  {
   "cell_type": "code",
   "execution_count": 15,
   "id": "ab4f01eb",
   "metadata": {},
   "outputs": [
    {
     "data": {
      "text/plain": [
       "('Ashish', 0, 'xgf')"
      ]
     },
     "execution_count": 15,
     "metadata": {},
     "output_type": "execute_result"
    }
   ],
   "source": [
    "my_tuple"
   ]
  },
  {
   "cell_type": "code",
   "execution_count": 16,
   "id": "d2b16fe5",
   "metadata": {},
   "outputs": [],
   "source": [
    "my_tuple=(\"Ashish\",\"Vishnu\",0,1,2)"
   ]
  },
  {
   "cell_type": "code",
   "execution_count": 17,
   "id": "02823f36",
   "metadata": {},
   "outputs": [
    {
     "data": {
      "text/plain": [
       "('Ashish', 'Vishnu', 0, 1, 2)"
      ]
     },
     "execution_count": 17,
     "metadata": {},
     "output_type": "execute_result"
    }
   ],
   "source": [
    "my_tuple"
   ]
  },
  {
   "cell_type": "code",
   "execution_count": 19,
   "id": "eaee9c68",
   "metadata": {},
   "outputs": [
    {
     "data": {
      "text/plain": [
       "1"
      ]
     },
     "execution_count": 19,
     "metadata": {},
     "output_type": "execute_result"
    }
   ],
   "source": [
    "my_tuple.count(\"Ashish\")"
   ]
  },
  {
   "cell_type": "code",
   "execution_count": 20,
   "id": "0a3f5a97",
   "metadata": {},
   "outputs": [
    {
     "data": {
      "text/plain": [
       "2"
      ]
     },
     "execution_count": 20,
     "metadata": {},
     "output_type": "execute_result"
    }
   ],
   "source": [
    "my_tuple.index(0)"
   ]
  },
  {
   "cell_type": "markdown",
   "id": "7f6d174e",
   "metadata": {},
   "source": [
    "Functions in python"
   ]
  },
  {
   "cell_type": "code",
   "execution_count": 1,
   "id": "65314a5c",
   "metadata": {},
   "outputs": [],
   "source": [
    "def fun(a):\n",
    "    return a**3"
   ]
  },
  {
   "cell_type": "code",
   "execution_count": 2,
   "id": "961f55cc",
   "metadata": {},
   "outputs": [
    {
     "name": "stdout",
     "output_type": "stream",
     "text": [
      "970299\n"
     ]
    }
   ],
   "source": [
    "print(fun(99))"
   ]
  },
  {
   "cell_type": "code",
   "execution_count": 17,
   "id": "8df626ff",
   "metadata": {},
   "outputs": [],
   "source": [
    "def fun2(a,b):\n",
    "    return ((a*b)-b)"
   ]
  },
  {
   "cell_type": "code",
   "execution_count": 18,
   "id": "8c8e974c",
   "metadata": {},
   "outputs": [
    {
     "name": "stdout",
     "output_type": "stream",
     "text": [
      "596\n"
     ]
    }
   ],
   "source": [
    "print(fun2(299,2))"
   ]
  },
  {
   "cell_type": "code",
   "execution_count": 19,
   "id": "64bd5a37",
   "metadata": {},
   "outputs": [],
   "source": [
    "def hello(name,age=20):\n",
    "    print(\"My name is {} and age {}\".format(name,age))"
   ]
  },
  {
   "cell_type": "code",
   "execution_count": 22,
   "id": "d57790db",
   "metadata": {},
   "outputs": [
    {
     "name": "stdout",
     "output_type": "stream",
     "text": [
      "My name is ashish and age 20\n"
     ]
    }
   ],
   "source": [
    "hello(\"ashish\")"
   ]
  },
  {
   "cell_type": "code",
   "execution_count": 24,
   "id": "09cb003c",
   "metadata": {},
   "outputs": [],
   "source": [
    "def hello(*args,**kwargs):\n",
    "    print(args)\n",
    "    print(kwargs)"
   ]
  },
  {
   "cell_type": "code",
   "execution_count": 25,
   "id": "c6e39b57",
   "metadata": {},
   "outputs": [
    {
     "name": "stdout",
     "output_type": "stream",
     "text": [
      "('Ashish', 'Vishnu')\n",
      "{'age': 29, 'dob': 2701}\n"
     ]
    }
   ],
   "source": [
    "hello(\"Ashish\",\"Vishnu\",age=29,dob=2701)"
   ]
  },
  {
   "cell_type": "markdown",
   "id": "fe548bb6",
   "metadata": {},
   "source": [
    "Map function in python"
   ]
  },
  {
   "cell_type": "code",
   "execution_count": 28,
   "id": "27d42ffc",
   "metadata": {},
   "outputs": [],
   "source": [
    "def even_or_odd(num):\n",
    "    if  num%2==0:\n",
    "        return \"The number is Even\"\n",
    "    else:\n",
    "        return \"The number is Odd\""
   ]
  },
  {
   "cell_type": "code",
   "execution_count": 29,
   "id": "a615494a",
   "metadata": {},
   "outputs": [
    {
     "data": {
      "text/plain": [
       "'The number is Odd'"
      ]
     },
     "execution_count": 29,
     "metadata": {},
     "output_type": "execute_result"
    }
   ],
   "source": [
    "even_or_odd(45)"
   ]
  },
  {
   "cell_type": "code",
   "execution_count": 30,
   "id": "82f0d87e",
   "metadata": {},
   "outputs": [],
   "source": [
    "lst=[1,2,3,4,5,6,7,8,23,45,67,245,6786,9999]"
   ]
  },
  {
   "cell_type": "code",
   "execution_count": 31,
   "id": "e1a2d8db",
   "metadata": {},
   "outputs": [
    {
     "data": {
      "text/plain": [
       "['The number is Odd',\n",
       " 'The number is Even',\n",
       " 'The number is Odd',\n",
       " 'The number is Even',\n",
       " 'The number is Odd',\n",
       " 'The number is Even',\n",
       " 'The number is Odd',\n",
       " 'The number is Even',\n",
       " 'The number is Odd',\n",
       " 'The number is Odd',\n",
       " 'The number is Odd',\n",
       " 'The number is Odd',\n",
       " 'The number is Even',\n",
       " 'The number is Odd']"
      ]
     },
     "execution_count": 31,
     "metadata": {},
     "output_type": "execute_result"
    }
   ],
   "source": [
    "list(map(even_or_odd,lst))"
   ]
  },
  {
   "cell_type": "markdown",
   "id": "9f2b9737",
   "metadata": {},
   "source": [
    "Lambda Functions"
   ]
  },
  {
   "cell_type": "code",
   "execution_count": 32,
   "id": "5ecdc534",
   "metadata": {},
   "outputs": [],
   "source": [
    "def add(a,b):\n",
    "    return a+b"
   ]
  },
  {
   "cell_type": "code",
   "execution_count": 33,
   "id": "b13c95d6",
   "metadata": {},
   "outputs": [
    {
     "data": {
      "text/plain": [
       "9"
      ]
     },
     "execution_count": 33,
     "metadata": {},
     "output_type": "execute_result"
    }
   ],
   "source": [
    "add(5,4)"
   ]
  },
  {
   "cell_type": "code",
   "execution_count": 34,
   "id": "64e1fe31",
   "metadata": {},
   "outputs": [],
   "source": [
    "addition=lambda a,b:a+b"
   ]
  },
  {
   "cell_type": "code",
   "execution_count": 35,
   "id": "c304a1b6",
   "metadata": {},
   "outputs": [
    {
     "data": {
      "text/plain": [
       "9"
      ]
     },
     "execution_count": 35,
     "metadata": {},
     "output_type": "execute_result"
    }
   ],
   "source": [
    "addition(4,5)"
   ]
  },
  {
   "cell_type": "code",
   "execution_count": 36,
   "id": "026ef8c9",
   "metadata": {},
   "outputs": [],
   "source": [
    "eve=lambda x:x%2==0    "
   ]
  },
  {
   "cell_type": "code",
   "execution_count": 37,
   "id": "27b9e2d7",
   "metadata": {},
   "outputs": [
    {
     "data": {
      "text/plain": [
       "False"
      ]
     },
     "execution_count": 37,
     "metadata": {},
     "output_type": "execute_result"
    }
   ],
   "source": [
    "eve(3455)"
   ]
  },
  {
   "cell_type": "markdown",
   "id": "dd17977b",
   "metadata": {},
   "source": [
    "Filter Function"
   ]
  },
  {
   "cell_type": "code",
   "execution_count": 38,
   "id": "93bee99a",
   "metadata": {},
   "outputs": [
    {
     "data": {
      "text/plain": [
       "<filter at 0x1b0c9fcf700>"
      ]
     },
     "execution_count": 38,
     "metadata": {},
     "output_type": "execute_result"
    }
   ],
   "source": [
    "filter(even_or_odd,lst)"
   ]
  },
  {
   "cell_type": "code",
   "execution_count": 40,
   "id": "48d6f323",
   "metadata": {},
   "outputs": [
    {
     "data": {
      "text/plain": [
       "[1, 2, 3, 4, 5, 6, 7, 8, 23, 45, 67, 245, 6786, 9999]"
      ]
     },
     "execution_count": 40,
     "metadata": {},
     "output_type": "execute_result"
    }
   ],
   "source": [
    "list(filter(even_or_odd,lst)) #displays all as we are getting for both"
   ]
  },
  {
   "cell_type": "code",
   "execution_count": 41,
   "id": "3196b741",
   "metadata": {},
   "outputs": [
    {
     "data": {
      "text/plain": [
       "[2, 4, 6, 8, 6786]"
      ]
     },
     "execution_count": 41,
     "metadata": {},
     "output_type": "execute_result"
    }
   ],
   "source": [
    "list(filter(lambda x:x%2==0 ,lst))"
   ]
  },
  {
   "cell_type": "markdown",
   "id": "62c278c1",
   "metadata": {},
   "source": [
    "List comprehension"
   ]
  },
  {
   "cell_type": "code",
   "execution_count": 42,
   "id": "c42c0f7c",
   "metadata": {},
   "outputs": [
    {
     "data": {
      "text/plain": [
       "[1, 4, 9, 16, 25, 36, 49, 64, 529, 2025, 4489, 60025, 46049796, 99980001]"
      ]
     },
     "execution_count": 42,
     "metadata": {},
     "output_type": "execute_result"
    }
   ],
   "source": [
    "[i**2 for i in lst]"
   ]
  },
  {
   "cell_type": "code",
   "execution_count": 43,
   "id": "3e48a367",
   "metadata": {},
   "outputs": [
    {
     "data": {
      "text/plain": [
       "[4, 16, 36, 64, 46049796]"
      ]
     },
     "execution_count": 43,
     "metadata": {},
     "output_type": "execute_result"
    }
   ],
   "source": [
    "[i**2 for i in lst if i%2==0]"
   ]
  },
  {
   "cell_type": "code",
   "execution_count": 46,
   "id": "7999502b",
   "metadata": {},
   "outputs": [
    {
     "data": {
      "text/plain": [
       "[1,\n",
       " 4,\n",
       " 27,\n",
       " 16,\n",
       " 125,\n",
       " 36,\n",
       " 343,\n",
       " 64,\n",
       " 12167,\n",
       " 91125,\n",
       " 300763,\n",
       " 14706125,\n",
       " 46049796,\n",
       " 999700029999]"
      ]
     },
     "execution_count": 46,
     "metadata": {},
     "output_type": "execute_result"
    }
   ],
   "source": [
    "[i**2 if i%2==0 else i**3 for i in lst]"
   ]
  },
  {
   "cell_type": "markdown",
   "id": "a68053cc",
   "metadata": {},
   "source": [
    "OOPS in Python"
   ]
  },
  {
   "cell_type": "code",
   "execution_count": null,
   "id": "970aa84b",
   "metadata": {},
   "outputs": [],
   "source": []
  }
 ],
 "metadata": {
  "kernelspec": {
   "display_name": "Python 3 (ipykernel)",
   "language": "python",
   "name": "python3"
  },
  "language_info": {
   "codemirror_mode": {
    "name": "ipython",
    "version": 3
   },
   "file_extension": ".py",
   "mimetype": "text/x-python",
   "name": "python",
   "nbconvert_exporter": "python",
   "pygments_lexer": "ipython3",
   "version": "3.8.5"
  }
 },
 "nbformat": 4,
 "nbformat_minor": 5
}
