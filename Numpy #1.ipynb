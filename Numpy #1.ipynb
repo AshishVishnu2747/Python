{
 "cells": [
  {
   "cell_type": "markdown",
   "id": "5940dfcd",
   "metadata": {},
   "source": [
    "# Numpy Basics:"
   ]
  },
  {
   "cell_type": "markdown",
   "id": "4b3868d6",
   "metadata": {},
   "source": [
    "#### What is an Array ?"
   ]
  },
  {
   "cell_type": "markdown",
   "id": "702b7691",
   "metadata": {},
   "source": [
    "An Array is a data structure that store values of the same data type. In python this is the main difference between arrays and lists. While python losts can contain values correspondig to different data types, arrays in python can only contain values corresponding to same data type. "
   ]
  },
  {
   "cell_type": "code",
   "execution_count": 1,
   "id": "a7db4b9e",
   "metadata": {},
   "outputs": [],
   "source": [
    "import numpy as np  #importing Numpy library "
   ]
  },
  {
   "cell_type": "code",
   "execution_count": 2,
   "id": "8d88c791",
   "metadata": {},
   "outputs": [],
   "source": [
    "my_lst = [1,2,3,4,5,6,6,7,8] #list\n",
    "\n",
    "arr = np.array(my_lst) #list to numpy array"
   ]
  },
  {
   "cell_type": "code",
   "execution_count": 3,
   "id": "666588f9",
   "metadata": {},
   "outputs": [
    {
     "data": {
      "text/plain": [
       "numpy.ndarray"
      ]
     },
     "execution_count": 3,
     "metadata": {},
     "output_type": "execute_result"
    }
   ],
   "source": [
    "type(arr) #to check data type"
   ]
  },
  {
   "cell_type": "code",
   "execution_count": 4,
   "id": "a3b78e6d",
   "metadata": {},
   "outputs": [
    {
     "data": {
      "text/plain": [
       "array([1, 2, 3, 4, 5, 6, 6, 7, 8])"
      ]
     },
     "execution_count": 4,
     "metadata": {},
     "output_type": "execute_result"
    }
   ],
   "source": [
    "arr  "
   ]
  },
  {
   "cell_type": "code",
   "execution_count": 5,
   "id": "5e0ca5e6",
   "metadata": {},
   "outputs": [
    {
     "data": {
      "text/plain": [
       "(9,)"
      ]
     },
     "execution_count": 5,
     "metadata": {},
     "output_type": "execute_result"
    }
   ],
   "source": [
    "arr.shape #to get rows and columns of array (rows,columns)"
   ]
  },
  {
   "cell_type": "code",
   "execution_count": 6,
   "id": "cf5ea536",
   "metadata": {},
   "outputs": [
    {
     "data": {
      "text/plain": [
       "array([[1, 2, 3],\n",
       "       [4, 5, 6],\n",
       "       [6, 7, 8]])"
      ]
     },
     "execution_count": 6,
     "metadata": {},
     "output_type": "execute_result"
    }
   ],
   "source": [
    "arr.reshape(3,3) #reshape(rows,columns)"
   ]
  },
  {
   "cell_type": "markdown",
   "id": "f61203b5",
   "metadata": {},
   "source": [
    "### Indexing"
   ]
  },
  {
   "cell_type": "code",
   "execution_count": 9,
   "id": "6b7f0dad",
   "metadata": {},
   "outputs": [],
   "source": [
    "#accesing the array element\n",
    "\n",
    "arr = np.array([1,2,3,4,5,6,7,8,9])"
   ]
  },
  {
   "cell_type": "code",
   "execution_count": 11,
   "id": "b069f92b",
   "metadata": {},
   "outputs": [
    {
     "data": {
      "text/plain": [
       "4"
      ]
     },
     "execution_count": 11,
     "metadata": {},
     "output_type": "execute_result"
    }
   ],
   "source": [
    "arr[3] #getting 4th element of array"
   ]
  },
  {
   "cell_type": "code",
   "execution_count": 15,
   "id": "321c23f4",
   "metadata": {},
   "outputs": [],
   "source": [
    "arr = np.array([[1,2,3],\n",
    "                 [4,5,6],\n",
    "                 [7,8,9]])"
   ]
  },
  {
   "cell_type": "code",
   "execution_count": 17,
   "id": "6fe000ca",
   "metadata": {},
   "outputs": [
    {
     "data": {
      "text/plain": [
       "array([[1, 2, 3],\n",
       "       [4, 5, 6],\n",
       "       [7, 8, 9]])"
      ]
     },
     "execution_count": 17,
     "metadata": {},
     "output_type": "execute_result"
    }
   ],
   "source": [
    "arr[0: ,:] #getting all the array elements"
   ]
  },
  {
   "cell_type": "code",
   "execution_count": 19,
   "id": "15c6b96b",
   "metadata": {},
   "outputs": [
    {
     "data": {
      "text/plain": [
       "array([[4, 5],\n",
       "       [7, 8]])"
      ]
     },
     "execution_count": 19,
     "metadata": {},
     "output_type": "execute_result"
    }
   ],
   "source": [
    "arr[1:,:2]"
   ]
  },
  {
   "cell_type": "code",
   "execution_count": 21,
   "id": "79108ab7",
   "metadata": {},
   "outputs": [],
   "source": [
    "arr = np.arange(0,10) #creating an array (start,stop,step)"
   ]
  },
  {
   "cell_type": "code",
   "execution_count": 22,
   "id": "93cb9742",
   "metadata": {},
   "outputs": [
    {
     "data": {
      "text/plain": [
       "array([0, 1, 2, 3, 4, 5, 6, 7, 8, 9])"
      ]
     },
     "execution_count": 22,
     "metadata": {},
     "output_type": "execute_result"
    }
   ],
   "source": [
    "arr"
   ]
  },
  {
   "cell_type": "code",
   "execution_count": 23,
   "id": "f70eb293",
   "metadata": {},
   "outputs": [],
   "source": [
    "arr = np.arange(0,100,25) #here 0 - start value, 100 - stop value and 25- step value"
   ]
  },
  {
   "cell_type": "code",
   "execution_count": 24,
   "id": "74b02fdc",
   "metadata": {},
   "outputs": [
    {
     "data": {
      "text/plain": [
       "array([ 0, 25, 50, 75])"
      ]
     },
     "execution_count": 24,
     "metadata": {},
     "output_type": "execute_result"
    }
   ],
   "source": [
    "arr"
   ]
  },
  {
   "cell_type": "code",
   "execution_count": 25,
   "id": "a48286fd",
   "metadata": {},
   "outputs": [
    {
     "data": {
      "text/plain": [
       "array([1.        , 1.21052632, 1.42105263, 1.63157895, 1.84210526,\n",
       "       2.05263158, 2.26315789, 2.47368421, 2.68421053, 2.89473684,\n",
       "       3.10526316, 3.31578947, 3.52631579, 3.73684211, 3.94736842,\n",
       "       4.15789474, 4.36842105, 4.57894737, 4.78947368, 5.        ])"
      ]
     },
     "execution_count": 25,
     "metadata": {},
     "output_type": "execute_result"
    }
   ],
   "source": [
    "np.linspace(1,5,20) #linspace is similar to arange but it equally divides the values. (start,stop,point required)"
   ]
  },
  {
   "cell_type": "code",
   "execution_count": 28,
   "id": "72734add",
   "metadata": {},
   "outputs": [],
   "source": [
    "#copy function and broadcasting\n",
    "\n",
    "arr[2:] = 100  #replacing 2nd number onwards with value 100"
   ]
  },
  {
   "cell_type": "code",
   "execution_count": 29,
   "id": "21267ee7",
   "metadata": {},
   "outputs": [
    {
     "data": {
      "text/plain": [
       "array([  0,  25, 100, 100])"
      ]
     },
     "execution_count": 29,
     "metadata": {},
     "output_type": "execute_result"
    }
   ],
   "source": [
    "arr"
   ]
  },
  {
   "cell_type": "code",
   "execution_count": 30,
   "id": "8662b7e4",
   "metadata": {},
   "outputs": [],
   "source": [
    "arr[2:] = 10000"
   ]
  },
  {
   "cell_type": "code",
   "execution_count": 31,
   "id": "37189779",
   "metadata": {},
   "outputs": [
    {
     "data": {
      "text/plain": [
       "array([    0,    25, 10000, 10000])"
      ]
     },
     "execution_count": 31,
     "metadata": {},
     "output_type": "execute_result"
    }
   ],
   "source": [
    "arr"
   ]
  },
  {
   "cell_type": "code",
   "execution_count": 32,
   "id": "f9b15a1a",
   "metadata": {},
   "outputs": [],
   "source": [
    "# to prevent this from happening we use .copy() function\n",
    "\n",
    "arr1 = arr.copy() #creates a replica of arr"
   ]
  },
  {
   "cell_type": "code",
   "execution_count": 33,
   "id": "16592a09",
   "metadata": {},
   "outputs": [
    {
     "data": {
      "text/plain": [
       "array([    0,    25, 10000, 10000])"
      ]
     },
     "execution_count": 33,
     "metadata": {},
     "output_type": "execute_result"
    }
   ],
   "source": [
    "arr1"
   ]
  },
  {
   "cell_type": "code",
   "execution_count": 34,
   "id": "d344b177",
   "metadata": {},
   "outputs": [
    {
     "data": {
      "text/plain": [
       "array([ True, False, False, False])"
      ]
     },
     "execution_count": 34,
     "metadata": {},
     "output_type": "execute_result"
    }
   ],
   "source": [
    "# some condition useful in EDA\n",
    "\n",
    "val = 2\n",
    "arr<2 #returns True or False"
   ]
  },
  {
   "cell_type": "code",
   "execution_count": 35,
   "id": "d61e06be",
   "metadata": {},
   "outputs": [
    {
     "data": {
      "text/plain": [
       "array([ 0, 25])"
      ]
     },
     "execution_count": 35,
     "metadata": {},
     "output_type": "execute_result"
    }
   ],
   "source": [
    "arr[arr<100] #returns values less than 100"
   ]
  },
  {
   "cell_type": "code",
   "execution_count": 36,
   "id": "d5056a71",
   "metadata": {},
   "outputs": [
    {
     "data": {
      "text/plain": [
       "array([1., 1., 1., 1., 1.])"
      ]
     },
     "execution_count": 36,
     "metadata": {},
     "output_type": "execute_result"
    }
   ],
   "source": [
    "np.ones(5) #creates array with one"
   ]
  },
  {
   "cell_type": "code",
   "execution_count": 37,
   "id": "6a255e01",
   "metadata": {},
   "outputs": [
    {
     "data": {
      "text/plain": [
       "array([1, 1, 1, 1, 1, 1, 1, 1, 1, 1])"
      ]
     },
     "execution_count": 37,
     "metadata": {},
     "output_type": "execute_result"
    }
   ],
   "source": [
    "np.ones(10,dtype=int)"
   ]
  },
  {
   "cell_type": "code",
   "execution_count": 38,
   "id": "ad335342",
   "metadata": {},
   "outputs": [
    {
     "data": {
      "text/plain": [
       "array([[0.22397859, 0.42299356, 0.3869608 ],\n",
       "       [0.27728529, 0.33324016, 0.52600321],\n",
       "       [0.07070726, 0.03229364, 0.99090923]])"
      ]
     },
     "execution_count": 38,
     "metadata": {},
     "output_type": "execute_result"
    }
   ],
   "source": [
    "np.random.rand(3,3) #gives a random sample to form uniform distribution"
   ]
  },
  {
   "cell_type": "code",
   "execution_count": 40,
   "id": "a8207014",
   "metadata": {},
   "outputs": [
    {
     "data": {
      "text/plain": [
       "array([[-1.90016916, -0.17440385],\n",
       "       [-0.17488985, -0.04229408]])"
      ]
     },
     "execution_count": 40,
     "metadata": {},
     "output_type": "execute_result"
    }
   ],
   "source": [
    "np.random.randn(2,2) #gives a random sample to form standard normal distribution"
   ]
  },
  {
   "cell_type": "code",
   "execution_count": 41,
   "id": "e9cedfac",
   "metadata": {},
   "outputs": [
    {
     "data": {
      "text/plain": [
       "array([92,  2, 83,  9, 48, 33, 12, 72, 49, 15, 84, 54, 65, 57, 18, 91, 79,\n",
       "       49, 98, 72])"
      ]
     },
     "execution_count": 41,
     "metadata": {},
     "output_type": "execute_result"
    }
   ],
   "source": [
    "np.random.randint(0,100,20) #gives random number between(0,100,20 numbers)"
   ]
  }
 ],
 "metadata": {
  "kernelspec": {
   "display_name": "Python 3 (ipykernel)",
   "language": "python",
   "name": "python3"
  },
  "language_info": {
   "codemirror_mode": {
    "name": "ipython",
    "version": 3
   },
   "file_extension": ".py",
   "mimetype": "text/x-python",
   "name": "python",
   "nbconvert_exporter": "python",
   "pygments_lexer": "ipython3",
   "version": "3.8.5"
  }
 },
 "nbformat": 4,
 "nbformat_minor": 5
}
